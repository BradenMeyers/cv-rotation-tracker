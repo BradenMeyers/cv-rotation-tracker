{
 "cells": [
  {
   "cell_type": "markdown",
   "metadata": {},
   "source": [
    "# Angle Tracking\n",
    "\n",
    "This notebook processes video data to track the rotation of an object, calculate its angular velocity, and analyze the results. The code is split into sections for modular execution."
   ]
  },
  {
   "cell_type": "code",
   "execution_count": 6,
   "metadata": {},
   "outputs": [],
   "source": [
    "# Import necessary libraries\n",
    "import cv2\n",
    "import numpy as np\n",
    "import math\n",
    "import time\n",
    "import matplotlib.pyplot as plt\n",
    "from config import *\n",
    "from utils import *\n",
    "import os"
   ]
  },
  {
   "cell_type": "markdown",
   "metadata": {},
   "source": [
    "## Initialization and Setup\n",
    "\n",
    "This section initializes global variables, sets up video capture, and prepares for processing."
   ]
  },
  {
   "cell_type": "code",
   "execution_count": 16,
   "metadata": {},
   "outputs": [],
   "source": [
    "# Global variables\n",
    "prev_angle = None\n",
    "cumulative_angle = 0.0\n",
    "rotation_count = 0\n",
    "frame_count = 0\n",
    "delta_angles = []\n",
    "angle_list = []\n",
    "pixel_count_list = []\n",
    "rotation_pos_list = []\n",
    "\n",
    "\n",
    "# Initialize video capture\n",
    "filename = os.path.splitext(os.path.basename(video_path))[0]\n",
    "output_path = f\"output/{filename}_output.mov\"\n",
    "cap = cv2.VideoCapture(video_path)\n",
    "\n",
    "if display_video:\n",
    "    fourcc = cv2.VideoWriter_fourcc(*'XVID')\n",
    "    out = cv2.VideoWriter(output_path, fourcc, 20.0, \n",
    "                     (crop_x_max - crop_x_min, crop_y_max - crop_y_min))"
   ]
  },
  {
   "cell_type": "markdown",
   "metadata": {},
   "source": [
    "## Frame Processing and Angle Calculation\n",
    "\n",
    "This section processes each frame of the video, detects the object, calculates its angle, and tracks rotations."
   ]
  },
  {
   "cell_type": "code",
   "execution_count": 17,
   "metadata": {},
   "outputs": [],
   "source": [
    "cropped_frame = None\n",
    "mask = None\n",
    "while cap.isOpened():\n",
    "    ret, frame = cap.read()\n",
    "    if not ret:\n",
    "        break\n",
    "\n",
    "    cropped_frame = crop_circle(frame)\n",
    "    frame_count += 1\n",
    "\n",
    "    mask = detect_orange_object(cropped_frame)\n",
    "    centroid = find_centroid(mask)\n",
    "\n",
    "    if centroid:\n",
    "        cx, cy = centroid\n",
    "        dx = cx - center[0]\n",
    "        dy = center[1] - cy  # Flip Y-axis for proper angle calculation\n",
    "        current_angle = math.atan2(dy, dx)\n",
    "\n",
    "        cv2.line(cropped_frame, center, (cx, cy), (255, 0, 0), 2)\n",
    "        cv2.circle(cropped_frame, (cx, cy), 5, (0, 255, 0), -1)\n",
    "\n",
    "        if prev_angle is not None:\n",
    "            # Calculate angle delta and adjust for wrapping\n",
    "            delta = current_angle - prev_angle\n",
    "            if delta > math.pi:\n",
    "                delta -= 2 * math.pi\n",
    "            elif delta < -math.pi:\n",
    "                delta += 2 * math.pi\n",
    "\n",
    "            cumulative_angle += delta\n",
    "            angle_list.append(cumulative_angle)\n",
    "            delta_angles.append(delta)\n",
    "            pixel_count_list.append(cv2.countNonZero(mask))\n",
    "\n",
    "            # Check for full rotations\n",
    "            if abs(cumulative_angle) >= 2 * math.pi:\n",
    "                rotation_pos_list.append((cx, cy))\n",
    "                rotation_count += 1\n",
    "                cumulative_angle = math.copysign(\n",
    "                    abs(cumulative_angle) % (2 * math.pi), \n",
    "                    cumulative_angle\n",
    "                )\n",
    "\n",
    "        prev_angle = current_angle\n",
    "\n",
    "    if display_video:\n",
    "        # Draw rotation info\n",
    "        cv2.circle(cropped_frame, center, 5, (0, 0, 255), -1)\n",
    "        cv2.putText(cropped_frame, f\"Rotations: {rotation_count}\", (10, 30),\n",
    "                    cv2.FONT_HERSHEY_SIMPLEX, 1, (0, 255, 0), 2)\n",
    "        cv2.putText(cropped_frame, f\"Current Angle: {math.degrees(current_angle):.2f} degrees\",\n",
    "                    (10, 60), cv2.FONT_HERSHEY_SIMPLEX, 0.7, (0, 255, 0), 2)\n",
    "\n",
    "        # Write and display frame\n",
    "        out.write(cropped_frame)\n",
    "        cv2.imshow('Rotation Counter', cropped_frame)\n",
    "\n",
    "        if cv2.waitKey(1) & 0xFF == ord('q'):\n",
    "            break\n",
    "\n",
    "cap.release()\n",
    "cv2.destroyAllWindows()"
   ]
  },
  {
   "cell_type": "markdown",
   "metadata": {},
   "source": [
    "## Post-Processing and Calculations\n",
    "\n",
    "This section calculates the total rotations, RPM, and performs statistical analysis on the angle deltas."
   ]
  },
  {
   "cell_type": "code",
   "execution_count": 21,
   "metadata": {},
   "outputs": [
    {
     "name": "stdout",
     "output_type": "stream",
     "text": [
      "Total rotations: -49.71342936599214\n",
      "Estimated RPM: -57.60264754396992\n"
     ]
    }
   ],
   "source": [
    "# Calculate RPM\n",
    "total_angle = sum(delta_angles)     # Angle in radians\n",
    "total_rotation = total_angle / (2 * math.pi)\n",
    "\n",
    "total_time = frame_count / fps  # Time in seconds\n",
    "total_min = total_time / 60\n",
    "rpm = total_rotation / total_min\n",
    "\n",
    "print(f\"Total rotations: {total_rotation}\")\n",
    "print(f\"Estimated RPM: {rpm}\")\n",
    "\n",
    "# Perform analysis on delta_angles\n",
    "mean_delta = np.mean(delta_angles)\n",
    "std_dev_delta = np.std(delta_angles)\n",
    "max_delta = np.max(delta_angles)\n",
    "min_delta = np.min(delta_angles)\n",
    "\n",
    "mean_delta_rev = mean_delta / (math.pi * 2)\n",
    "std_dev_delta_rev = std_dev_delta / (math.pi * 2)"
   ]
  },
  {
   "cell_type": "markdown",
   "metadata": {},
   "source": [
    "## Visualization of Results\n",
    "\n",
    "This section visualizes the results using a histogram of the angle deltas."
   ]
  },
  {
   "cell_type": "code",
   "execution_count": 22,
   "metadata": {},
   "outputs": [
    {
     "data": {
      "image/png": "[encoded data removed]",
      "text/plain": [
       "<Figure size 640x480 with 1 Axes>"
      ]
     },
     "metadata": {},
     "output_type": "display_data"
    },
    {
     "name": "stdout",
     "output_type": "stream",
     "text": [
      "Mean of delta angles: -0.025123356306757452 radians, -0.0039985063432793925 revs\n",
      "Standard deviation of delta angles: 0.003239572826891901 radians, 0.000515594028906031 revs\n",
      "Max delta angle: -0.0147 radians\n",
      "Min delta angle: -0.0358 radians\n",
      "Total frames: 12434\n"
     ]
    }
   ],
   "source": [
    "# Plot histogram of delta angles\n",
    "plt.hist(delta_angles, bins=30, edgecolor='black')\n",
    "plt.title('Histogram of Delta Angles')\n",
    "plt.xlabel('Delta Angle (radians)')\n",
    "plt.ylabel('Frequency')\n",
    "plt.grid(True)\n",
    "plt.show()\n",
    "\n",
    "print(f\"Mean of delta angles: {mean_delta} radians, {mean_delta_rev} revs\")\n",
    "print(f\"Standard deviation of delta angles: {std_dev_delta:} radians, {std_dev_delta_rev} revs\")\n",
    "print(f\"Max delta angle: {max_delta:.4f} radians\")\n",
    "print(f\"Min delta angle: {min_delta:.4f} radians\")\n",
    "print(f\"Total frames: {frame_count}\")"
   ]
  },
  {
   "cell_type": "markdown",
   "metadata": {},
   "source": [
    "# Data Analysis Plan\n",
    "\n",
    "## Centroid Movement Over Rotations\n",
    "I will track centroid positions after each full rotation to visualize movement patterns and detect potential drift. This will help identify inconsistencies in rotation and sources of error.\n",
    "\n",
    "## Delta Angle vs. Pixel Count\n",
    "I will analyze the relationship between delta angle (Δ angle) and the detected mask's pixel count. By plotting these values, I aim to detect patterns related to perspective distortion or occlusion. This could show a relationship between a change in angle and the pixel count of the mask which could indicate a masking inconsistency that causes a different delta angle calculation.\n",
    "\n",
    "## Angular Position vs. Pixel Count\n",
    "This could highlight any correlation from the position of the tracked object and the mask size. This could be caused by distortion, shadows, or poor masking.\n",
    "\n",
    "## Delta Angle vs. Angular Position\n",
    "By comparing the commanded delta angle to the actual observed delta angle per frame, I will evaluate rotation accuracy and identify any systematic biases. Key statistics such as mean, standard deviation, and range of delta angles will be computed.\n",
    "\n",
    "## Statistical Analysis & RPM Estimation\n",
    "I will calculate:\n",
    "- Mean, standard deviation, max, and min of delta angles\n",
    "- Mean delta angle converted into revolutions\n",
    "- RPM estimation based on total rotations and elapsed time\n",
    "\n",
    "These analyses will provide insights into rotational behavior and potential improvements for accurate motion tracking.\n",
    "\n"
   ]
  },
  {
   "cell_type": "code",
   "execution_count": null,
   "metadata": {},
   "outputs": [],
   "source": [
    "import matplotlib.pyplot as plt\n",
    "import numpy as np\n",
    "\n",
    "# # Sample data lists (replace with actual data)\n",
    "# delta_angles = []  # List of delta angles\n",
    "# angle_list = []  # Cumulative angles\n",
    "# pixel_count_list = []  # Pixel counts from the mask\n",
    "# rotation_pos_list = []  # Centroid positions at full rotations (tuples of (x, y))\n",
    "\n",
    "# 1. Histogram of X and Y Positions\n",
    "plt.figure(figsize=(12, 6))\n",
    "x_vals, y_vals = zip(*rotation_pos_list) if rotation_pos_list else ([], [])\n",
    "\n",
    "# X and Y positions vs Time\n",
    "x_len = range(len(x_vals))  # Assuming each position corresponds to a time step\n",
    "y_len = range(len(y_vals))  # Assuming each position corresponds to a time step\n",
    "\n",
    "plt.subplot(1, 2, 1)\n",
    "plt.plot(x_len, x_vals, marker='o', linestyle='-', alpha=0.7)\n",
    "plt.xlabel(\"Rotation Count\")\n",
    "plt.ylabel(\"X Centroid Position\")\n",
    "plt.title(\"X Centroid Position vs Rotation\")\n",
    "plt.grid()\n",
    "\n",
    "plt.subplot(1, 2, 2)\n",
    "plt.plot(y_len, y_vals, marker='o', linestyle='-', alpha=0.7)\n",
    "plt.xlabel(\"Rotation Count\")\n",
    "plt.ylabel(\"Y Centroid Position\")\n",
    "plt.title(\"Y Position vs Rotation\")\n",
    "plt.grid()\n",
    "\n",
    "plt.tight_layout()\n",
    "plt.show()\n",
    "\n",
    "# 2. Delta Angle vs. Pixel Count\n",
    "plt.figure()\n",
    "plt.scatter(delta_angles, pixel_count_list, alpha=0.7)\n",
    "plt.xlabel(\"Delta Angle (radians)\")\n",
    "plt.ylabel(\"Pixel Count\")\n",
    "plt.title(\"Delta Angle vs. Pixel Count\")\n",
    "plt.grid()\n",
    "plt.show()\n",
    "\n",
    "# 3. Delta Angle vs. Actual Angle Over Time\n",
    "plt.figure()\n",
    "plt.scatter(delta_angles, angle_list, alpha=0.7)\n",
    "plt.xlabel(\"Delta Angle (radians)\")\n",
    "plt.ylabel(\"Angular Position (radians)\")\n",
    "plt.title(\"Angular Position vs Delta Angle\")\n",
    "plt.legend()\n",
    "plt.grid()\n",
    "plt.show()\n",
    "\n",
    "# 2. Angular Position vs. Pixel Count \n",
    "plt.figure()\n",
    "plt.scatter(pixel_count_list, angle_list, alpha=0.7)\n",
    "plt.xlabel(\"Pixel Count\")\n",
    "plt.ylabel(\"Angular Position (radians)\")\n",
    "plt.title(\"Angular Position vs Pixel Count\")\n",
    "plt.legend()\n",
    "plt.grid()\n",
    "plt.show()\n"
   ]
  }
 ],
 "metadata": {
  "kernelspec": {
   "display_name": "Python 3",
   "language": "python",
   "name": "python3"
  },
  "language_info": {
   "codemirror_mode": {
    "name": "ipython",
    "version": 3
   },
   "file_extension": ".py",
   "mimetype": "text/x-python",
   "name": "python",
   "nbconvert_exporter": "python",
   "pygments_lexer": "ipython3",
   "version": "3.10.12"
  }
 },
 "nbformat": 4,
 "nbformat_minor": 2
}
